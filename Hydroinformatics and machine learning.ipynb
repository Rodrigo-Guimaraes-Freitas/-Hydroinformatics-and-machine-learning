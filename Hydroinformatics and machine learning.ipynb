{
 "cells": [
  {
   "cell_type": "markdown",
   "metadata": {},
   "source": [
    "                                    Hydroinformatics and machine learning\n",
    "                                    \n",
    "                                     IHE Delft ( Professor's department)\n",
    "                                    \n",
    "\n",
    "Course Schedule:\n",
    "\n",
    "\n",
    "1- Experience using IT and modelling theory to solve water resources management;\n",
    "\n",
    "2- The concept pf Data mining and a basic exercise;\n",
    "\n",
    "3- Data forecasting in time series of hydrological flow;\n",
    "\n",
    "4- Data analysis of drought  from spatiotemporal global data sets;\n",
    "\n",
    "5- Other concepts, mobile phone data tools and research discussion;\n",
    "\n",
    "\n",
    "\n",
    "First rule: Keep it simple but not simpler (KISS)\n",
    "\n",
    "\n",
    "What should be considered:\n",
    "\n",
    "1- Boundary conditions;\n",
    "2- Calibration;\n",
    "3- Uncentainties;\n",
    "4- processing time;\n",
    "5- Amount of parameters;\n",
    "6- Amount of initial data;\n",
    "\n",
    "Information flux:\n",
    "\n",
    "Initial data -> Models -> Knowledge -> Decisions\n",
    "\n"
   ]
  }
 ],
 "metadata": {
  "kernelspec": {
   "display_name": "Python 3",
   "language": "python",
   "name": "python3"
  },
  "language_info": {
   "codemirror_mode": {
    "name": "ipython",
    "version": 3
   },
   "file_extension": ".py",
   "mimetype": "text/x-python",
   "name": "python",
   "nbconvert_exporter": "python",
   "pygments_lexer": "ipython3",
   "version": "3.7.4"
  }
 },
 "nbformat": 4,
 "nbformat_minor": 2
}
